{
 "cells": [
  {
   "cell_type": "code",
   "execution_count": 1,
   "metadata": {},
   "outputs": [],
   "source": [
    "import json\n",
    "import xlwings as xw\n",
    "import pandas as pd"
   ]
  },
  {
   "cell_type": "code",
   "execution_count": 2,
   "metadata": {},
   "outputs": [],
   "source": [
    "def addPrices(r: dict) -> dict:\n",
    "    d = r.copy()\n",
    "    for k,v in r.items():\n",
    "        if k in ['SPREAD','RATE','FXPOINTS','FXSPOT']:\n",
    "            d[k] = prices_df[prices_df.TICKER==v].VALUE.iloc[0]\n",
    "            d[k+'TICKER'] =v\n",
    "    return d\n",
    "def dropNones(d: dict) -> dict:\n",
    "    r = d.copy()    \n",
    "    for k, v in d.items():\n",
    "        if v is None:\n",
    "            del r[k]\n",
    "    return r\n",
    "def exportJson(curve_name, data):\n",
    "    json_object  = json.dumps(data)\n",
    "    with open(curve_name+\".json\", \"w\") as outfile:\n",
    "        outfile.write(json_object)"
   ]
  },
  {
   "cell_type": "code",
   "execution_count": 3,
   "metadata": {},
   "outputs": [],
   "source": [
    "dfs = {}\n",
    "date_handler = lambda year, month, day, **kwargs: \"%02i%02i%04i\" % (day, month,year)\n",
    "for s in xw.books[0].sheets:\n",
    "    dfs[s.name] = s.range('A1').options(pd.DataFrame, expand='table', index=False, dates=date_handler).value    "
   ]
  },
  {
   "cell_type": "code",
   "execution_count": 4,
   "metadata": {},
   "outputs": [],
   "source": [
    "curves = {}\n",
    "exclude = ['CURVES','INDEX','PRICES','XCCYBASIS']\n",
    "prices_df = dfs['PRICES']\n",
    "curves_dfs = dfs['CURVES']\n",
    "for curve in curves_dfs.NAME:\n",
    "    curve_config = curves_dfs[curves_dfs.NAME==curve].iloc[0].to_dict()\n",
    "    rate_helpers = []\n",
    "    for s in xw.books[0].sheets:        \n",
    "        if s.name not in exclude:\n",
    "            tmp = dfs[s.name]            \n",
    "            for r in tmp[tmp.NAME==curve].T.to_dict().values():\n",
    "                d = dropNones(r)\n",
    "                d['TYPE'] = s.name\n",
    "                d = addPrices(d)\n",
    "                del d['NAME']\n",
    "                rate_helpers.append(d)\n",
    "            curve_config['RATEHELPERS'] = rate_helpers\n",
    "    curves[curve] = curve_config"
   ]
  },
  {
   "cell_type": "code",
   "execution_count": 5,
   "metadata": {},
   "outputs": [],
   "source": [
    "for k,v in curves.items():\n",
    "    exportJson(k,v)"
   ]
  },
  {
   "cell_type": "code",
   "execution_count": 6,
   "metadata": {},
   "outputs": [],
   "source": [
    "indices = {}\n",
    "indices_dfs = dfs['INDEX']\n",
    "for index in indices_dfs.NAME:\n",
    "    index_config = indices_dfs[indices_dfs.NAME==index].iloc[0].to_dict()\n",
    "    indices[index] = index_config"
   ]
  },
  {
   "cell_type": "code",
   "execution_count": 7,
   "metadata": {},
   "outputs": [],
   "source": [
    "for k,v in indices.items():\n",
    "    exportJson('INDEX_'+k,v)"
   ]
  }
 ],
 "metadata": {
  "kernelspec": {
   "display_name": "Python 3.10.4 ('py310')",
   "language": "python",
   "name": "python3"
  },
  "language_info": {
   "codemirror_mode": {
    "name": "ipython",
    "version": 3
   },
   "file_extension": ".py",
   "mimetype": "text/x-python",
   "name": "python",
   "nbconvert_exporter": "python",
   "pygments_lexer": "ipython3",
   "version": "3.10.4"
  },
  "orig_nbformat": 4,
  "vscode": {
   "interpreter": {
    "hash": "4b886d637c43394812a2085f05a8158c1560b11b5f850ce68ae22f8409f8090d"
   }
  }
 },
 "nbformat": 4,
 "nbformat_minor": 2
}
