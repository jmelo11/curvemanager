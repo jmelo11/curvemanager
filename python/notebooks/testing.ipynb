{
 "cells": [
  {
   "cell_type": "code",
   "execution_count": 1,
   "metadata": {},
   "outputs": [],
   "source": [
    "import xlwings as xw\n",
    "import pandas as pd\n",
    "import matplotlib.pyplot as plt\n",
    "from datetime import date, datetime\n",
    "from dateutil.relativedelta import relativedelta\n",
    "import json\n",
    "\n",
    "import XVA\n",
    "import curvemanager\n",
    "\n",
    "import QuantLib as ql\n",
    "data_base = XVA.get_datamanager()\n",
    "manager = XVA.CurveFactory(data_base)"
   ]
  },
  {
   "cell_type": "markdown",
   "metadata": {},
   "source": [
    "### Processing"
   ]
  },
  {
   "cell_type": "code",
   "execution_count": 4,
   "metadata": {},
   "outputs": [],
   "source": [
    "dfs = {}\n",
    "date_handler = lambda year, month, day, **kwargs: \"%02i%02i%04i\" % (day, month,year)\n",
    "for s in xw.books[0].sheets:\n",
    "    dfs[s.name] = s.range('A1').options(pd.DataFrame, expand='table', index=False, dates=date_handler).value    "
   ]
  },
  {
   "cell_type": "code",
   "execution_count": 5,
   "metadata": {},
   "outputs": [],
   "source": [
    "def exportJson(curve_name, curves):\n",
    "    json_object  = json.dumps(data)\n",
    "    with open(curve_name+\".json\", \"w\") as outfile:\n",
    "        outfile.write(json_object)"
   ]
  },
  {
   "cell_type": "code",
   "execution_count": 6,
   "metadata": {},
   "outputs": [],
   "source": [
    "def dropNones(d: dict) -> dict:\n",
    "    r = d.copy()    \n",
    "    for k, v in d.items():\n",
    "        if v is None:\n",
    "            del r[k]\n",
    "    return r"
   ]
  },
  {
   "cell_type": "code",
   "execution_count": 7,
   "metadata": {},
   "outputs": [],
   "source": [
    "def addPrices(r: dict) -> dict:\n",
    "    d = r.copy()\n",
    "    for k,v in r.items():\n",
    "        if k in ['SPREAD','RATE','FXPOINTS','FXSPOT']:\n",
    "            d[k] = prices_df[prices_df.TICKER==v].VALUE.iloc[0]\n",
    "            d[k+'TICKER'] =v\n",
    "    return d"
   ]
  },
  {
   "cell_type": "code",
   "execution_count": 8,
   "metadata": {},
   "outputs": [],
   "source": [
    "curves = {}\n",
    "exclude = ['CURVES','INDEX','PRICES','XCCYBASIS']\n",
    "prices_df = dfs['PRICES']\n",
    "curves_dfs = dfs['CURVES']\n",
    "for curve in curves_dfs.CURVENAME:\n",
    "    curve_config = curves_dfs[curves_dfs.CURVENAME==curve].iloc[0].to_dict()\n",
    "    rate_helpers = []\n",
    "    for s in xw.books[0].sheets:        \n",
    "        if s.name not in exclude:\n",
    "            tmp = dfs[s.name]            \n",
    "            for r in tmp[tmp.CURVENAME==curve].T.to_dict().values():\n",
    "                d = dropNones(r)\n",
    "                d['TYPE'] = s.name\n",
    "                d = addPrices(d)\n",
    "                rate_helpers.append(d)\n",
    "            curve_config['RATEHELPERS'] = rate_helpers\n",
    "    curves[curve] = curve_config"
   ]
  },
  {
   "cell_type": "code",
   "execution_count": 9,
   "metadata": {},
   "outputs": [],
   "source": [
    "indices = {}\n",
    "indices_dfs = dfs['INDEX']\n",
    "for index in indices_dfs.INDEXNAME:\n",
    "    index_config = indices_dfs[indices_dfs.INDEXNAME==index].iloc[0].to_dict()\n",
    "    indices[index] = index_config\n"
   ]
  },
  {
   "cell_type": "code",
   "execution_count": 10,
   "metadata": {},
   "outputs": [],
   "source": [
    "REFDATE = '25082022'\n",
    "REFDATE_DT = datetime(2022,8,25)\n",
    "JSONEXPORT = True\n",
    "dates = [REFDATE_DT+relativedelta(months=i) for i in range(0,24)]\n",
    "dates_str = list(map(lambda d: d.strftime('%d%m%Y'), dates))"
   ]
  },
  {
   "cell_type": "markdown",
   "metadata": {},
   "source": [
    "#### Test SOFR"
   ]
  },
  {
   "cell_type": "code",
   "execution_count": 11,
   "metadata": {},
   "outputs": [],
   "source": [
    "TEST_CURVE = 'SOFR'\n",
    "data = {'REFDATE':REFDATE, 'CURVES':{TEST_CURVE: curves[TEST_CURVE]}, 'INDEX': {TEST_CURVE:indices[TEST_CURVE]}}\n",
    "if JSONEXPORT: exportJson(TEST_CURVE, data)\n",
    "builder = curvemanager.CurveBuilder(data)\n",
    "builder.build()"
   ]
  },
  {
   "cell_type": "code",
   "execution_count": 12,
   "metadata": {},
   "outputs": [
    {
     "name": "stdout",
     "output_type": "stream",
     "text": [
      "Building curve:  SOFR\n"
     ]
    },
    {
     "data": {
      "image/png": "[encoded data removed]",
      "text/plain": [
       "<Figure size 432x288 with 1 Axes>"
      ]
     },
     "metadata": {
      "needs_background": "light"
     },
     "output_type": "display_data"
    }
   ],
   "source": [
    "c = manager.build_curve(TEST_CURVE,REFDATE_DT)[0]\n",
    "rates = [c.zeroRate(ql.Date(d.day,d.month,d.year),ql.Actual365Fixed(),ql.Continuous, ql.Annual).rate()*100 for d in dates]\n",
    "\n",
    "try:\n",
    "    values = builder.zeroRates(TEST_CURVE, dates_str, 'ACT365','CONTINUOUS','ANNUAL') \n",
    "    v = []\n",
    "    for pair in values:\n",
    "        v.append(pair*100)      \n",
    "    plt.plot(dates,v)\n",
    "    plt.plot(dates,rates)\n",
    "except Exception as e:\n",
    "    raise e"
   ]
  },
  {
   "cell_type": "markdown",
   "metadata": {},
   "source": [
    "#### Test Collateral Curve"
   ]
  },
  {
   "cell_type": "code",
   "execution_count": 13,
   "metadata": {},
   "outputs": [],
   "source": [
    "TEST_CURVE = 'CLP_COLLUSD'\n",
    "data = {'REFDATE':REFDATE, 'CURVES':{TEST_CURVE: curves[TEST_CURVE]}, 'INDEX': {TEST_CURVE:indices[TEST_CURVE]}}\n",
    "if JSONEXPORT: exportJson(TEST_CURVE, data)\n"
   ]
  },
  {
   "cell_type": "code",
   "execution_count": 14,
   "metadata": {},
   "outputs": [],
   "source": [
    "builder.set(data)\n",
    "builder.build()"
   ]
  },
  {
   "cell_type": "code",
   "execution_count": 15,
   "metadata": {},
   "outputs": [
    {
     "name": "stdout",
     "output_type": "stream",
     "text": [
      "Building curve:  COLLATERAL_USDCLP\n",
      "Building curve:  LIBOR6M\n",
      "Building curve:  LIBOR3M\n"
     ]
    },
    {
     "data": {
      "image/png": "[encoded data removed]",
      "text/plain": [
       "<Figure size 432x288 with 1 Axes>"
      ]
     },
     "metadata": {
      "needs_background": "light"
     },
     "output_type": "display_data"
    }
   ],
   "source": [
    "c = manager.build_curve('COLLATERAL_USDCLP',REFDATE_DT)[0]\n",
    "rates = [c.zeroRate(ql.Date(d.day,d.month,d.year),ql.Actual365Fixed(),ql.Continuous, ql.Annual).rate()*100 for d in dates]\n",
    "try:\n",
    "    values = builder.zeroRates(TEST_CURVE, dates_str, 'ACT365','CONTINUOUS','ANNUAL') \n",
    "    v = []\n",
    "    for pair in values:\n",
    "        v.append(pair*100)      \n",
    "    plt.plot(dates,v, label='new')\n",
    "    plt.plot(dates,rates, label='old')\n",
    "    plt.legend(loc='lower left')\n",
    "except Exception as e:\n",
    "    raise e"
   ]
  },
  {
   "cell_type": "markdown",
   "metadata": {},
   "source": [
    "####  Test ICP"
   ]
  },
  {
   "cell_type": "code",
   "execution_count": 16,
   "metadata": {},
   "outputs": [],
   "source": [
    "TEST_CURVE = 'ICP_ICAP'\n",
    "data = {'REFDATE':REFDATE, 'CURVES':{TEST_CURVE: curves[TEST_CURVE]}, 'INDEX': {TEST_CURVE:indices[TEST_CURVE]}}\n",
    "if JSONEXPORT: exportJson(TEST_CURVE, data)"
   ]
  },
  {
   "cell_type": "code",
   "execution_count": 17,
   "metadata": {},
   "outputs": [],
   "source": [
    "builder.set(data)\n",
    "builder.build()"
   ]
  },
  {
   "cell_type": "code",
   "execution_count": 18,
   "metadata": {},
   "outputs": [
    {
     "name": "stdout",
     "output_type": "stream",
     "text": [
      "Building curve:  ICP\n"
     ]
    },
    {
     "data": {
      "image/png": "[encoded data removed]",
      "text/plain": [
       "<Figure size 432x288 with 1 Axes>"
      ]
     },
     "metadata": {
      "needs_background": "light"
     },
     "output_type": "display_data"
    }
   ],
   "source": [
    "c = manager.build_curve('ICP',REFDATE_DT)[0]\n",
    "rates = [c.zeroRate(ql.Date(d.day,d.month,d.year),ql.Actual360(),ql.Simple, ql.Annual).rate()*100 for d in dates]\n",
    "\n",
    "try:\n",
    "    values = builder.zeroRates(TEST_CURVE, dates_str, 'ACT360','SIMPLE','ANNUAL') \n",
    "    v = []\n",
    "    for pair in values:\n",
    "        v.append(pair*100)      \n",
    "    plt.plot(dates,v, label='new')\n",
    "    plt.plot(dates,rates, label='old')\n",
    "    plt.legend(loc='lower left')\n",
    "except Exception as e:\n",
    "    raise e"
   ]
  },
  {
   "cell_type": "code",
   "execution_count": 19,
   "metadata": {},
   "outputs": [
    {
     "data": {
      "text/html": [
       "<div>\n",
       "<style scoped>\n",
       "    .dataframe tbody tr th:only-of-type {\n",
       "        vertical-align: middle;\n",
       "    }\n",
       "\n",
       "    .dataframe tbody tr th {\n",
       "        vertical-align: top;\n",
       "    }\n",
       "\n",
       "    .dataframe thead th {\n",
       "        text-align: right;\n",
       "    }\n",
       "</style>\n",
       "<table border=\"1\" class=\"dataframe\">\n",
       "  <thead>\n",
       "    <tr style=\"text-align: right;\">\n",
       "      <th></th>\n",
       "      <th>dates</th>\n",
       "      <th>rates</th>\n",
       "    </tr>\n",
       "  </thead>\n",
       "  <tbody>\n",
       "    <tr>\n",
       "      <th>0</th>\n",
       "      <td>2022-08-25</td>\n",
       "      <td>0.097487</td>\n",
       "    </tr>\n",
       "    <tr>\n",
       "      <th>1</th>\n",
       "      <td>2022-09-25</td>\n",
       "      <td>0.105510</td>\n",
       "    </tr>\n",
       "    <tr>\n",
       "      <th>2</th>\n",
       "      <td>2022-10-25</td>\n",
       "      <td>0.106100</td>\n",
       "    </tr>\n",
       "    <tr>\n",
       "      <th>3</th>\n",
       "      <td>2022-11-25</td>\n",
       "      <td>0.108350</td>\n",
       "    </tr>\n",
       "    <tr>\n",
       "      <th>4</th>\n",
       "      <td>2022-12-25</td>\n",
       "      <td>0.109608</td>\n",
       "    </tr>\n",
       "    <tr>\n",
       "      <th>5</th>\n",
       "      <td>2023-01-25</td>\n",
       "      <td>0.110605</td>\n",
       "    </tr>\n",
       "    <tr>\n",
       "      <th>6</th>\n",
       "      <td>2023-02-25</td>\n",
       "      <td>0.111450</td>\n",
       "    </tr>\n",
       "    <tr>\n",
       "      <th>7</th>\n",
       "      <td>2023-03-25</td>\n",
       "      <td>0.111858</td>\n",
       "    </tr>\n",
       "    <tr>\n",
       "      <th>8</th>\n",
       "      <td>2023-04-25</td>\n",
       "      <td>0.112329</td>\n",
       "    </tr>\n",
       "    <tr>\n",
       "      <th>9</th>\n",
       "      <td>2023-05-25</td>\n",
       "      <td>0.112800</td>\n",
       "    </tr>\n",
       "    <tr>\n",
       "      <th>10</th>\n",
       "      <td>2023-06-25</td>\n",
       "      <td>0.112481</td>\n",
       "    </tr>\n",
       "    <tr>\n",
       "      <th>11</th>\n",
       "      <td>2023-07-25</td>\n",
       "      <td>0.112314</td>\n",
       "    </tr>\n",
       "    <tr>\n",
       "      <th>12</th>\n",
       "      <td>2023-08-25</td>\n",
       "      <td>0.112250</td>\n",
       "    </tr>\n",
       "    <tr>\n",
       "      <th>13</th>\n",
       "      <td>2023-09-25</td>\n",
       "      <td>0.111237</td>\n",
       "    </tr>\n",
       "    <tr>\n",
       "      <th>14</th>\n",
       "      <td>2023-10-25</td>\n",
       "      <td>0.110450</td>\n",
       "    </tr>\n",
       "    <tr>\n",
       "      <th>15</th>\n",
       "      <td>2023-11-25</td>\n",
       "      <td>0.109796</td>\n",
       "    </tr>\n",
       "    <tr>\n",
       "      <th>16</th>\n",
       "      <td>2023-12-25</td>\n",
       "      <td>0.109290</td>\n",
       "    </tr>\n",
       "    <tr>\n",
       "      <th>17</th>\n",
       "      <td>2024-01-25</td>\n",
       "      <td>0.108874</td>\n",
       "    </tr>\n",
       "    <tr>\n",
       "      <th>18</th>\n",
       "      <td>2024-02-25</td>\n",
       "      <td>0.108550</td>\n",
       "    </tr>\n",
       "    <tr>\n",
       "      <th>19</th>\n",
       "      <td>2024-03-25</td>\n",
       "      <td>0.107805</td>\n",
       "    </tr>\n",
       "  </tbody>\n",
       "</table>\n",
       "</div>"
      ],
      "text/plain": [
       "        dates     rates\n",
       "0  2022-08-25  0.097487\n",
       "1  2022-09-25  0.105510\n",
       "2  2022-10-25  0.106100\n",
       "3  2022-11-25  0.108350\n",
       "4  2022-12-25  0.109608\n",
       "5  2023-01-25  0.110605\n",
       "6  2023-02-25  0.111450\n",
       "7  2023-03-25  0.111858\n",
       "8  2023-04-25  0.112329\n",
       "9  2023-05-25  0.112800\n",
       "10 2023-06-25  0.112481\n",
       "11 2023-07-25  0.112314\n",
       "12 2023-08-25  0.112250\n",
       "13 2023-09-25  0.111237\n",
       "14 2023-10-25  0.110450\n",
       "15 2023-11-25  0.109796\n",
       "16 2023-12-25  0.109290\n",
       "17 2024-01-25  0.108874\n",
       "18 2024-02-25  0.108550\n",
       "19 2024-03-25  0.107805"
      ]
     },
     "execution_count": 19,
     "metadata": {},
     "output_type": "execute_result"
    }
   ],
   "source": [
    "pd.DataFrame({'dates':dates, 'rates':values}).head(20)"
   ]
  },
  {
   "cell_type": "markdown",
   "metadata": {},
   "source": [
    "#### Test LIBOR"
   ]
  },
  {
   "cell_type": "code",
   "execution_count": 20,
   "metadata": {},
   "outputs": [],
   "source": [
    "TEST_CURVE = 'LIBOR3M'\n",
    "data = {'REFDATE':REFDATE, 'CURVES':{TEST_CURVE: curves[TEST_CURVE]}, 'INDEX': {TEST_CURVE:indices[TEST_CURVE]}}\n",
    "if JSONEXPORT: exportJson(TEST_CURVE, data)"
   ]
  },
  {
   "cell_type": "code",
   "execution_count": 21,
   "metadata": {},
   "outputs": [],
   "source": [
    "builder.set(data)\n",
    "builder.build()"
   ]
  },
  {
   "cell_type": "code",
   "execution_count": 22,
   "metadata": {},
   "outputs": [],
   "source": [
    "TEST_CURVE = 'LIBOR6M'\n",
    "data = {'REFDATE':REFDATE, 'CURVES':{TEST_CURVE: curves[TEST_CURVE]}, 'INDEX': {TEST_CURVE:indices[TEST_CURVE]}}\n",
    "if JSONEXPORT: exportJson(TEST_CURVE, data)"
   ]
  },
  {
   "cell_type": "code",
   "execution_count": 23,
   "metadata": {},
   "outputs": [],
   "source": [
    "builder.set(data)\n",
    "builder.build()"
   ]
  },
  {
   "cell_type": "code",
   "execution_count": 24,
   "metadata": {},
   "outputs": [],
   "source": [
    "TEST_CURVE = 'LIBOR12M'\n",
    "data = {'REFDATE':REFDATE, 'CURVES':{TEST_CURVE: curves[TEST_CURVE]}, 'INDEX': {TEST_CURVE:indices[TEST_CURVE]}}\n",
    "if JSONEXPORT: exportJson(TEST_CURVE, data)"
   ]
  },
  {
   "cell_type": "code",
   "execution_count": 25,
   "metadata": {},
   "outputs": [],
   "source": [
    "builder.set(data)\n",
    "builder.build()"
   ]
  },
  {
   "cell_type": "markdown",
   "metadata": {},
   "source": [
    "### Test UF"
   ]
  },
  {
   "cell_type": "code",
   "execution_count": 26,
   "metadata": {},
   "outputs": [],
   "source": [
    "TEST_CURVE = 'UF_COLLUSD'\n",
    "data = {'REFDATE':REFDATE, 'CURVES':{TEST_CURVE: curves[TEST_CURVE]}, 'INDEX': {TEST_CURVE:indices[TEST_CURVE]}}\n",
    "if JSONEXPORT: exportJson(TEST_CURVE, data)"
   ]
  },
  {
   "cell_type": "code",
   "execution_count": 27,
   "metadata": {},
   "outputs": [],
   "source": [
    "builder.set(data)\n",
    "builder.build()"
   ]
  },
  {
   "cell_type": "code",
   "execution_count": 28,
   "metadata": {},
   "outputs": [
    {
     "name": "stdout",
     "output_type": "stream",
     "text": [
      "Building curve:  COLLATERAL_USDUF\n"
     ]
    },
    {
     "ename": "RuntimeError",
     "evalue": "1st iteration: failed at 18th alive instrument, pillar February 29th, 2024, maturity February 29th, 2024, reference date August 25th, 2022: root not bracketed: f[0.927521,1.03652] -> [nan,nan]",
     "output_type": "error",
     "traceback": [
      "\u001b[1;31m---------------------------------------------------------------------------\u001b[0m",
      "\u001b[1;31mRuntimeError\u001b[0m                              Traceback (most recent call last)",
      "\u001b[1;32m~\\AppData\\Local\\Temp\\ipykernel_48192\\502393361.py\u001b[0m in \u001b[0;36m<module>\u001b[1;34m\u001b[0m\n\u001b[0;32m     11\u001b[0m     \u001b[0mplt\u001b[0m\u001b[1;33m.\u001b[0m\u001b[0mlegend\u001b[0m\u001b[1;33m(\u001b[0m\u001b[0mloc\u001b[0m\u001b[1;33m=\u001b[0m\u001b[1;34m'lower left'\u001b[0m\u001b[1;33m)\u001b[0m\u001b[1;33m\u001b[0m\u001b[1;33m\u001b[0m\u001b[0m\n\u001b[0;32m     12\u001b[0m \u001b[1;32mexcept\u001b[0m \u001b[0mException\u001b[0m \u001b[1;32mas\u001b[0m \u001b[0me\u001b[0m\u001b[1;33m:\u001b[0m\u001b[1;33m\u001b[0m\u001b[1;33m\u001b[0m\u001b[0m\n\u001b[1;32m---> 13\u001b[1;33m     \u001b[1;32mraise\u001b[0m \u001b[0me\u001b[0m\u001b[1;33m\u001b[0m\u001b[1;33m\u001b[0m\u001b[0m\n\u001b[0m",
      "\u001b[1;32m~\\AppData\\Local\\Temp\\ipykernel_48192\\502393361.py\u001b[0m in \u001b[0;36m<module>\u001b[1;34m\u001b[0m\n\u001b[0;32m      3\u001b[0m \u001b[1;33m\u001b[0m\u001b[0m\n\u001b[0;32m      4\u001b[0m \u001b[1;32mtry\u001b[0m\u001b[1;33m:\u001b[0m\u001b[1;33m\u001b[0m\u001b[1;33m\u001b[0m\u001b[0m\n\u001b[1;32m----> 5\u001b[1;33m     \u001b[0mvalues\u001b[0m \u001b[1;33m=\u001b[0m \u001b[0mbuilder\u001b[0m\u001b[1;33m.\u001b[0m\u001b[0mzeroRates\u001b[0m\u001b[1;33m(\u001b[0m\u001b[0mTEST_CURVE\u001b[0m\u001b[1;33m,\u001b[0m \u001b[0mdates_str\u001b[0m\u001b[1;33m,\u001b[0m \u001b[1;34m'ACT360'\u001b[0m\u001b[1;33m,\u001b[0m\u001b[1;34m'SIMPLE'\u001b[0m\u001b[1;33m,\u001b[0m\u001b[1;34m'ANNUAL'\u001b[0m\u001b[1;33m)\u001b[0m\u001b[1;33m\u001b[0m\u001b[1;33m\u001b[0m\u001b[0m\n\u001b[0m\u001b[0;32m      6\u001b[0m     \u001b[0mv\u001b[0m \u001b[1;33m=\u001b[0m \u001b[1;33m[\u001b[0m\u001b[1;33m]\u001b[0m\u001b[1;33m\u001b[0m\u001b[1;33m\u001b[0m\u001b[0m\n\u001b[0;32m      7\u001b[0m     \u001b[1;32mfor\u001b[0m \u001b[0mpair\u001b[0m \u001b[1;32min\u001b[0m \u001b[0mvalues\u001b[0m\u001b[1;33m:\u001b[0m\u001b[1;33m\u001b[0m\u001b[1;33m\u001b[0m\u001b[0m\n",
      "\u001b[1;31mRuntimeError\u001b[0m: 1st iteration: failed at 18th alive instrument, pillar February 29th, 2024, maturity February 29th, 2024, reference date August 25th, 2022: root not bracketed: f[0.927521,1.03652] -> [nan,nan]"
     ]
    }
   ],
   "source": [
    "c = manager.build_curve('COLLATERAL_USDUF',REFDATE_DT)[0]\n",
    "rates = [c.zeroRate(ql.Date(d.day,d.month,d.year),ql.Actual360(),ql.Simple, ql.Annual).rate()*100 for d in dates]\n",
    "\n",
    "try:\n",
    "    values = builder.zeroRates(TEST_CURVE, dates_str, 'ACT360','SIMPLE','ANNUAL') \n",
    "    v = []\n",
    "    for pair in values:\n",
    "        v.append(pair*100)      \n",
    "    plt.plot(dates,v, label='new') \n",
    "    plt.plot(dates,rates, label='old')\n",
    "    plt.legend(loc='lower left')\n",
    "except Exception as e:\n",
    "    raise e"
   ]
  }
 ],
 "metadata": {
  "kernelspec": {
   "display_name": "Python 3.7.13 ('py37_2')",
   "language": "python",
   "name": "python3"
  },
  "language_info": {
   "codemirror_mode": {
    "name": "ipython",
    "version": 3
   },
   "file_extension": ".py",
   "mimetype": "text/x-python",
   "name": "python",
   "nbconvert_exporter": "python",
   "pygments_lexer": "ipython3",
   "version": "3.7.13"
  },
  "orig_nbformat": 4,
  "vscode": {
   "interpreter": {
    "hash": "7a726581064f8bda66a3d523cab91f3975fb7c4b88dcb3c26378cbd236973200"
   }
  }
 },
 "nbformat": 4,
 "nbformat_minor": 2
}
